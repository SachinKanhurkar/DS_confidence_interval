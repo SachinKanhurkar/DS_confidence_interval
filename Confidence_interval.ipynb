{
 "cells": [
  {
   "cell_type": "code",
   "execution_count": 1,
   "metadata": {
    "executionInfo": {
     "elapsed": 1572,
     "status": "ok",
     "timestamp": 1608641653393,
     "user": {
      "displayName": "Srinivas Gurrala",
      "photoUrl": "",
      "userId": "12138918910797044839"
     },
     "user_tz": -330
    },
    "id": "iRjXwM84gPL1"
   },
   "outputs": [],
   "source": [
    "from scipy import stats\n",
    "import pandas as pd\n",
    "import numpy as np\n"
   ]
  },
  {
   "cell_type": "code",
   "execution_count": 2,
   "metadata": {
    "executionInfo": {
     "elapsed": 983,
     "status": "ok",
     "timestamp": 1608641661977,
     "user": {
      "displayName": "Srinivas Gurrala",
      "photoUrl": "",
      "userId": "12138918910797044839"
     },
     "user_tz": -330
    },
    "id": "fCUXCbwGgPMF"
   },
   "outputs": [],
   "source": [
    "glaxo_df=pd.read_csv('glaxo_df.csv')\n"
   ]
  },
  {
   "cell_type": "code",
   "execution_count": 3,
   "metadata": {
    "colab": {
     "base_uri": "https://localhost:8080/"
    },
    "executionInfo": {
     "elapsed": 996,
     "status": "ok",
     "timestamp": 1608641692151,
     "user": {
      "displayName": "Srinivas Gurrala",
      "photoUrl": "",
      "userId": "12138918910797044839"
     },
     "user_tz": -330
    },
    "id": "wOgFL-wOgPMH",
    "outputId": "29c39392-1c2b-4ecb-817b-10ed05050587"
   },
   "outputs": [
    {
     "name": "stdout",
     "output_type": "stream",
     "text": [
      "Gain at 95% confidence interval is: [-0.0258  0.0266]\n"
     ]
    }
   ],
   "source": [
    "glaxo_df_ci = stats.norm.interval(0.95,\n",
    "loc = glaxo_df.gain.mean(),\n",
    "scale = glaxo_df.gain.std())\n",
    "print( 'Gain at 95% confidence interval is:', np.round(glaxo_df_ci, 4))"
   ]
  },
  {
   "cell_type": "code",
   "execution_count": 4,
   "metadata": {
    "executionInfo": {
     "elapsed": 1033,
     "status": "ok",
     "timestamp": 1608641742765,
     "user": {
      "displayName": "Srinivas Gurrala",
      "photoUrl": "",
      "userId": "12138918910797044839"
     },
     "user_tz": -330
    },
    "id": "pF3i1GncgPMK"
   },
   "outputs": [],
   "source": [
    "beml_df=pd.read_csv('beml_df.csv')\n",
    "\n",
    "beml_df_ci = stats. norm.interval(0.95,\n",
    "loc=beml_df.gain.mean(),\n",
    "scale=beml_df.gain.std())"
   ]
  },
  {
   "cell_type": "code",
   "execution_count": 5,
   "metadata": {
    "colab": {
     "base_uri": "https://localhost:8080/"
    },
    "executionInfo": {
     "elapsed": 921,
     "status": "ok",
     "timestamp": 1608641759336,
     "user": {
      "displayName": "Srinivas Gurrala",
      "photoUrl": "",
      "userId": "12138918910797044839"
     },
     "user_tz": -330
    },
    "id": "RE63y6hxgPMP",
    "outputId": "1170afb7-d592-4cf4-e510-525fd0165e0e"
   },
   "outputs": [
    {
     "data": {
      "text/plain": [
       "(-0.051532729680601415, 0.05207422583871588)"
      ]
     },
     "execution_count": 5,
     "metadata": {},
     "output_type": "execute_result"
    }
   ],
   "source": [
    "beml_df_ci"
   ]
  },
  {
   "cell_type": "code",
   "execution_count": 6,
   "metadata": {
    "id": "zR0sJnhthUMh"
   },
   "outputs": [],
   "source": [
    "#Calculate the Z scores of  90% confidence interval,94% confidence interval, 60% confidence interval \n"
   ]
  },
  {
   "cell_type": "code",
   "execution_count": 12,
   "metadata": {},
   "outputs": [
    {
     "data": {
      "text/plain": [
       "1.6448536269514722"
      ]
     },
     "execution_count": 12,
     "metadata": {},
     "output_type": "execute_result"
    }
   ],
   "source": [
    "c=0.90 #confidence \n",
    "alpha = 1-c\n",
    "a= (1-alpha)+alpha*0.5\n",
    "stats.norm.ppf(a)"
   ]
  },
  {
   "cell_type": "code",
   "execution_count": 13,
   "metadata": {},
   "outputs": [
    {
     "data": {
      "text/plain": [
       "1.8807936081512509"
      ]
     },
     "execution_count": 13,
     "metadata": {},
     "output_type": "execute_result"
    }
   ],
   "source": [
    "c=0.94 #confidence \n",
    "alpha = 1-c\n",
    "a= (1-alpha)+alpha*0.5\n",
    "stats.norm.ppf(a)"
   ]
  },
  {
   "cell_type": "code",
   "execution_count": 14,
   "metadata": {},
   "outputs": [
    {
     "data": {
      "text/plain": [
       "0.8416212335729143"
      ]
     },
     "execution_count": 14,
     "metadata": {},
     "output_type": "execute_result"
    }
   ],
   "source": [
    "c=0.60 #confidence \n",
    "alpha = 1-c\n",
    "a= (1-alpha)+alpha*0.5\n",
    "stats.norm.ppf(a)"
   ]
  },
  {
   "cell_type": "code",
   "execution_count": 23,
   "metadata": {},
   "outputs": [
    {
     "name": "stdout",
     "output_type": "stream",
     "text": [
      "1.6448536269514722\n",
      "1.8807936081512509\n",
      "0.8416212335729143\n"
     ]
    }
   ],
   "source": [
    "c=[0.90, 0.94, 0.60] #confidence \n",
    "for i in c:\n",
    "    alpha = 1-i\n",
    "    a= (1-alpha)+alpha*0.5\n",
    "    print(stats.norm.ppf(a))"
   ]
  },
  {
   "cell_type": "code",
   "execution_count": 15,
   "metadata": {},
   "outputs": [],
   "source": [
    "#Calculate the t scores of 95% confidence interval, 96% confidence interval, 99% confidence interval for sample size of 25\n"
   ]
  },
  {
   "cell_type": "code",
   "execution_count": 18,
   "metadata": {},
   "outputs": [
    {
     "name": "stdout",
     "output_type": "stream",
     "text": [
      "2.0638985616280205\n",
      "2.1715446760080677\n",
      "2.796939504772804\n"
     ]
    }
   ],
   "source": [
    "n=25\n",
    "n1= n-1\n",
    "c=[0.95, 0.96, 0.99] #confidence \n",
    "for i in c:\n",
    "    alpha = 1-i\n",
    "    a= (1-alpha)+alpha*0.5\n",
    "    print(stats.t.ppf(a,n1))"
   ]
  },
  {
   "cell_type": "code",
   "execution_count": null,
   "metadata": {},
   "outputs": [],
   "source": []
  },
  {
   "cell_type": "code",
   "execution_count": null,
   "metadata": {},
   "outputs": [],
   "source": []
  }
 ],
 "metadata": {
  "colab": {
   "name": "Confidence Interval.ipynb",
   "provenance": []
  },
  "kernelspec": {
   "display_name": "Python 3",
   "language": "python",
   "name": "python3"
  },
  "language_info": {
   "codemirror_mode": {
    "name": "ipython",
    "version": 3
   },
   "file_extension": ".py",
   "mimetype": "text/x-python",
   "name": "python",
   "nbconvert_exporter": "python",
   "pygments_lexer": "ipython3",
   "version": "3.8.5"
  }
 },
 "nbformat": 4,
 "nbformat_minor": 1
}
