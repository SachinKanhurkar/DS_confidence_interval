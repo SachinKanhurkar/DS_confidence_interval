{
 "cells": [
  {
   "cell_type": "code",
   "execution_count": 1,
   "metadata": {
    "executionInfo": {
     "elapsed": 1572,
     "status": "ok",
     "timestamp": 1608641653393,
     "user": {
      "displayName": "Srinivas Gurrala",
      "photoUrl": "",
      "userId": "12138918910797044839"
     },
     "user_tz": -330
    },
    "id": "iRjXwM84gPL1"
   },
   "outputs": [],
   "source": [
    "from scipy import stats\n",
    "import pandas as pd\n",
    "import numpy as np\n"
   ]
  },
  {
   "cell_type": "code",
   "execution_count": 2,
   "metadata": {
    "executionInfo": {
     "elapsed": 983,
     "status": "ok",
     "timestamp": 1608641661977,
     "user": {
      "displayName": "Srinivas Gurrala",
      "photoUrl": "",
      "userId": "12138918910797044839"
     },
     "user_tz": -330
    },
    "id": "fCUXCbwGgPMF"
   },
   "outputs": [],
   "source": [
    "glaxo_df=pd.read_csv('glaxo_df.csv')\n"
   ]
  },
  {
   "cell_type": "code",
   "execution_count": 3,
   "metadata": {
    "colab": {
     "base_uri": "https://localhost:8080/"
    },
    "executionInfo": {
     "elapsed": 996,
     "status": "ok",
     "timestamp": 1608641692151,
     "user": {
      "displayName": "Srinivas Gurrala",
      "photoUrl": "",
      "userId": "12138918910797044839"
     },
     "user_tz": -330
    },
    "id": "wOgFL-wOgPMH",
    "outputId": "29c39392-1c2b-4ecb-817b-10ed05050587"
   },
   "outputs": [
    {
     "name": "stdout",
     "output_type": "stream",
     "text": [
      "Gain at 95% confidence interval is: [-0.0258  0.0266]\n"
     ]
    }
   ],
   "source": [
    "glaxo_df_ci = stats.norm.interval(0.95,\n",
    "loc = glaxo_df.gain.mean(),\n",
    "scale = glaxo_df.gain.std())\n",
    "print( 'Gain at 95% confidence interval is:', np.round(glaxo_df_ci, 4))"
   ]
  },
  {
   "cell_type": "code",
   "execution_count": 4,
   "metadata": {
    "executionInfo": {
     "elapsed": 1033,
     "status": "ok",
     "timestamp": 1608641742765,
     "user": {
      "displayName": "Srinivas Gurrala",
      "photoUrl": "",
      "userId": "12138918910797044839"
     },
     "user_tz": -330
    },
    "id": "pF3i1GncgPMK"
   },
   "outputs": [],
   "source": [
    "beml_df=pd.read_csv('beml_df.csv')\n",
    "\n",
    "beml_df_ci = stats. norm.interval(0.95,\n",
    "loc=beml_df.gain.mean(),\n",
    "scale=beml_df.gain.std())"
   ]
  },
  {
   "cell_type": "code",
   "execution_count": 5,
   "metadata": {
    "colab": {
     "base_uri": "https://localhost:8080/"
    },
    "executionInfo": {
     "elapsed": 921,
     "status": "ok",
     "timestamp": 1608641759336,
     "user": {
      "displayName": "Srinivas Gurrala",
      "photoUrl": "",
      "userId": "12138918910797044839"
     },
     "user_tz": -330
    },
    "id": "RE63y6hxgPMP",
    "outputId": "1170afb7-d592-4cf4-e510-525fd0165e0e"
   },
   "outputs": [
    {
     "data": {
      "text/plain": [
       "(-0.051532729680601415, 0.05207422583871588)"
      ]
     },
     "execution_count": 5,
     "metadata": {},
     "output_type": "execute_result"
    }
   ],
   "source": [
    "beml_df_ci"
   ]
  },
  {
   "cell_type": "code",
   "execution_count": null,
   "metadata": {
    "id": "zR0sJnhthUMh"
   },
   "outputs": [],
   "source": []
  }
 ],
 "metadata": {
  "colab": {
   "name": "Confidence Interval.ipynb",
   "provenance": []
  },
  "kernelspec": {
   "display_name": "Python 3",
   "language": "python",
   "name": "python3"
  },
  "language_info": {
   "codemirror_mode": {
    "name": "ipython",
    "version": 3
   },
   "file_extension": ".py",
   "mimetype": "text/x-python",
   "name": "python",
   "nbconvert_exporter": "python",
   "pygments_lexer": "ipython3",
   "version": "3.8.5"
  }
 },
 "nbformat": 4,
 "nbformat_minor": 1
}
